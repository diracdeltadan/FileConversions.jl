{
 "cells": [
  {
   "cell_type": "code",
   "execution_count": 61,
   "metadata": {},
   "outputs": [],
   "source": [
    "using Pkg"
   ]
  },
  {
   "cell_type": "code",
   "execution_count": 2,
   "metadata": {},
   "outputs": [],
   "source": [
    "using LinearAlgebra"
   ]
  },
  {
   "cell_type": "code",
   "execution_count": 3,
   "metadata": {},
   "outputs": [],
   "source": [
    "using DuckDB"
   ]
  },
  {
   "cell_type": "code",
   "execution_count": 4,
   "metadata": {},
   "outputs": [],
   "source": [
    "using DataFrames"
   ]
  },
  {
   "cell_type": "code",
   "execution_count": 16,
   "metadata": {},
   "outputs": [],
   "source": [
    "using BenchmarkTools"
   ]
  },
  {
   "cell_type": "code",
   "execution_count": 4,
   "metadata": {},
   "outputs": [
    {
     "data": {
      "text/plain": [
       "DuckDB.DB(\"dbfile1\")"
      ]
     },
     "metadata": {},
     "output_type": "display_data"
    }
   ],
   "source": [
    "con = DBInterface.connect(DuckDB.DB, \"dbfile1\")"
   ]
  },
  {
   "cell_type": "code",
   "execution_count": 41,
   "metadata": {},
   "outputs": [
    {
     "data": {
      "text/plain": [
       "1000000"
      ]
     },
     "metadata": {},
     "output_type": "display_data"
    }
   ],
   "source": [
    "n=1000000"
   ]
  },
  {
   "cell_type": "code",
   "execution_count": 42,
   "metadata": {},
   "outputs": [],
   "source": [
    "df = DataFrame(a = [Int32(x) for x in 1:n], b = [rand() for x in 1:n]);"
   ]
  },
  {
   "cell_type": "code",
   "execution_count": 43,
   "metadata": {},
   "outputs": [
    {
     "data": {
      "text/plain": [
       "1000000-element Vector{Int32}:\n",
       "       0\n",
       "       0\n",
       "       0\n",
       "       0\n",
       "       0\n",
       "       0\n",
       "       0\n",
       "       0\n",
       "       0\n",
       "       0\n",
       "       ⋮\n",
       "  999900\n",
       "  999900\n",
       "  999900\n",
       "  999900\n",
       "  999900\n",
       "  999900\n",
       "  999900\n",
       "  999900\n",
       " 1000000"
      ]
     },
     "metadata": {},
     "output_type": "display_data"
    }
   ],
   "source": [
    "df[!,\"c\"] .= convert.(Int32, 100 .* floor.(df[!,\"a\"] .// 100))"
   ]
  },
  {
   "cell_type": "code",
   "execution_count": 44,
   "metadata": {},
   "outputs": [
    {
     "data": {
      "text/html": [
       "<div><div style = \"float: left;\"><span>1000000×3 DataFrame</span></div><div style = \"float: right;\"><span style = \"font-style: italic;\">999975 rows omitted</span></div><div style = \"clear: both;\"></div></div><div class = \"data-frame\" style = \"overflow-x: scroll;\"><table class = \"data-frame\" style = \"margin-bottom: 6px;\"><thead><tr class = \"header\"><th class = \"rowNumber\" style = \"font-weight: bold; text-align: right;\">Row</th><th style = \"text-align: left;\">a</th><th style = \"text-align: left;\">b</th><th style = \"text-align: left;\">c</th></tr><tr class = \"subheader headerLastRow\"><th class = \"rowNumber\" style = \"font-weight: bold; text-align: right;\"></th><th title = \"Int32\" style = \"text-align: left;\">Int32</th><th title = \"Float64\" style = \"text-align: left;\">Float64</th><th title = \"Int32\" style = \"text-align: left;\">Int32</th></tr></thead><tbody><tr><td class = \"rowNumber\" style = \"font-weight: bold; text-align: right;\">1</td><td style = \"text-align: right;\">1</td><td style = \"text-align: right;\">0.953131</td><td style = \"text-align: right;\">0</td></tr><tr><td class = \"rowNumber\" style = \"font-weight: bold; text-align: right;\">2</td><td style = \"text-align: right;\">2</td><td style = \"text-align: right;\">0.296321</td><td style = \"text-align: right;\">0</td></tr><tr><td class = \"rowNumber\" style = \"font-weight: bold; text-align: right;\">3</td><td style = \"text-align: right;\">3</td><td style = \"text-align: right;\">0.897179</td><td style = \"text-align: right;\">0</td></tr><tr><td class = \"rowNumber\" style = \"font-weight: bold; text-align: right;\">4</td><td style = \"text-align: right;\">4</td><td style = \"text-align: right;\">0.144067</td><td style = \"text-align: right;\">0</td></tr><tr><td class = \"rowNumber\" style = \"font-weight: bold; text-align: right;\">5</td><td style = \"text-align: right;\">5</td><td style = \"text-align: right;\">0.784014</td><td style = \"text-align: right;\">0</td></tr><tr><td class = \"rowNumber\" style = \"font-weight: bold; text-align: right;\">6</td><td style = \"text-align: right;\">6</td><td style = \"text-align: right;\">0.346108</td><td style = \"text-align: right;\">0</td></tr><tr><td class = \"rowNumber\" style = \"font-weight: bold; text-align: right;\">7</td><td style = \"text-align: right;\">7</td><td style = \"text-align: right;\">0.205078</td><td style = \"text-align: right;\">0</td></tr><tr><td class = \"rowNumber\" style = \"font-weight: bold; text-align: right;\">8</td><td style = \"text-align: right;\">8</td><td style = \"text-align: right;\">0.60435</td><td style = \"text-align: right;\">0</td></tr><tr><td class = \"rowNumber\" style = \"font-weight: bold; text-align: right;\">9</td><td style = \"text-align: right;\">9</td><td style = \"text-align: right;\">0.77532</td><td style = \"text-align: right;\">0</td></tr><tr><td class = \"rowNumber\" style = \"font-weight: bold; text-align: right;\">10</td><td style = \"text-align: right;\">10</td><td style = \"text-align: right;\">0.757259</td><td style = \"text-align: right;\">0</td></tr><tr><td class = \"rowNumber\" style = \"font-weight: bold; text-align: right;\">11</td><td style = \"text-align: right;\">11</td><td style = \"text-align: right;\">0.392864</td><td style = \"text-align: right;\">0</td></tr><tr><td class = \"rowNumber\" style = \"font-weight: bold; text-align: right;\">12</td><td style = \"text-align: right;\">12</td><td style = \"text-align: right;\">0.996358</td><td style = \"text-align: right;\">0</td></tr><tr><td class = \"rowNumber\" style = \"font-weight: bold; text-align: right;\">13</td><td style = \"text-align: right;\">13</td><td style = \"text-align: right;\">0.915072</td><td style = \"text-align: right;\">0</td></tr><tr><td style = \"text-align: right;\">&vellip;</td><td style = \"text-align: right;\">&vellip;</td><td style = \"text-align: right;\">&vellip;</td><td style = \"text-align: right;\">&vellip;</td></tr><tr><td class = \"rowNumber\" style = \"font-weight: bold; text-align: right;\">999989</td><td style = \"text-align: right;\">999989</td><td style = \"text-align: right;\">0.964683</td><td style = \"text-align: right;\">999900</td></tr><tr><td class = \"rowNumber\" style = \"font-weight: bold; text-align: right;\">999990</td><td style = \"text-align: right;\">999990</td><td style = \"text-align: right;\">0.806778</td><td style = \"text-align: right;\">999900</td></tr><tr><td class = \"rowNumber\" style = \"font-weight: bold; text-align: right;\">999991</td><td style = \"text-align: right;\">999991</td><td style = \"text-align: right;\">0.973095</td><td style = \"text-align: right;\">999900</td></tr><tr><td class = \"rowNumber\" style = \"font-weight: bold; text-align: right;\">999992</td><td style = \"text-align: right;\">999992</td><td style = \"text-align: right;\">0.123222</td><td style = \"text-align: right;\">999900</td></tr><tr><td class = \"rowNumber\" style = \"font-weight: bold; text-align: right;\">999993</td><td style = \"text-align: right;\">999993</td><td style = \"text-align: right;\">0.303132</td><td style = \"text-align: right;\">999900</td></tr><tr><td class = \"rowNumber\" style = \"font-weight: bold; text-align: right;\">999994</td><td style = \"text-align: right;\">999994</td><td style = \"text-align: right;\">0.598799</td><td style = \"text-align: right;\">999900</td></tr><tr><td class = \"rowNumber\" style = \"font-weight: bold; text-align: right;\">999995</td><td style = \"text-align: right;\">999995</td><td style = \"text-align: right;\">0.666</td><td style = \"text-align: right;\">999900</td></tr><tr><td class = \"rowNumber\" style = \"font-weight: bold; text-align: right;\">999996</td><td style = \"text-align: right;\">999996</td><td style = \"text-align: right;\">0.951518</td><td style = \"text-align: right;\">999900</td></tr><tr><td class = \"rowNumber\" style = \"font-weight: bold; text-align: right;\">999997</td><td style = \"text-align: right;\">999997</td><td style = \"text-align: right;\">0.415549</td><td style = \"text-align: right;\">999900</td></tr><tr><td class = \"rowNumber\" style = \"font-weight: bold; text-align: right;\">999998</td><td style = \"text-align: right;\">999998</td><td style = \"text-align: right;\">0.588543</td><td style = \"text-align: right;\">999900</td></tr><tr><td class = \"rowNumber\" style = \"font-weight: bold; text-align: right;\">999999</td><td style = \"text-align: right;\">999999</td><td style = \"text-align: right;\">0.45919</td><td style = \"text-align: right;\">999900</td></tr><tr><td class = \"rowNumber\" style = \"font-weight: bold; text-align: right;\">1000000</td><td style = \"text-align: right;\">1000000</td><td style = \"text-align: right;\">0.135341</td><td style = \"text-align: right;\">1000000</td></tr></tbody></table></div>"
      ],
      "text/latex": [
       "\\begin{tabular}{r|ccc}\n",
       "\t& a & b & c\\\\\n",
       "\t\\hline\n",
       "\t& Int32 & Float64 & Int32\\\\\n",
       "\t\\hline\n",
       "\t1 & 1 & 0.953131 & 0 \\\\\n",
       "\t2 & 2 & 0.296321 & 0 \\\\\n",
       "\t3 & 3 & 0.897179 & 0 \\\\\n",
       "\t4 & 4 & 0.144067 & 0 \\\\\n",
       "\t5 & 5 & 0.784014 & 0 \\\\\n",
       "\t6 & 6 & 0.346108 & 0 \\\\\n",
       "\t7 & 7 & 0.205078 & 0 \\\\\n",
       "\t8 & 8 & 0.60435 & 0 \\\\\n",
       "\t9 & 9 & 0.77532 & 0 \\\\\n",
       "\t10 & 10 & 0.757259 & 0 \\\\\n",
       "\t11 & 11 & 0.392864 & 0 \\\\\n",
       "\t12 & 12 & 0.996358 & 0 \\\\\n",
       "\t13 & 13 & 0.915072 & 0 \\\\\n",
       "\t14 & 14 & 0.052959 & 0 \\\\\n",
       "\t15 & 15 & 0.614239 & 0 \\\\\n",
       "\t16 & 16 & 0.677853 & 0 \\\\\n",
       "\t17 & 17 & 0.535824 & 0 \\\\\n",
       "\t18 & 18 & 0.229382 & 0 \\\\\n",
       "\t19 & 19 & 0.344846 & 0 \\\\\n",
       "\t20 & 20 & 0.331849 & 0 \\\\\n",
       "\t21 & 21 & 0.126344 & 0 \\\\\n",
       "\t22 & 22 & 0.679002 & 0 \\\\\n",
       "\t23 & 23 & 0.05204 & 0 \\\\\n",
       "\t24 & 24 & 0.954282 & 0 \\\\\n",
       "\t$\\dots$ & $\\dots$ & $\\dots$ & $\\dots$ \\\\\n",
       "\\end{tabular}\n"
      ],
      "text/plain": [
       "\u001b[1m1000000×3 DataFrame\u001b[0m\n",
       "\u001b[1m     Row \u001b[0m│\u001b[1m a       \u001b[0m\u001b[1m b        \u001b[0m\u001b[1m c       \u001b[0m\n",
       "         │\u001b[90m Int32   \u001b[0m\u001b[90m Float64  \u001b[0m\u001b[90m Int32   \u001b[0m\n",
       "─────────┼────────────────────────────\n",
       "       1 │       1  0.953131        0\n",
       "       2 │       2  0.296321        0\n",
       "       3 │       3  0.897179        0\n",
       "       4 │       4  0.144067        0\n",
       "       5 │       5  0.784014        0\n",
       "       6 │       6  0.346108        0\n",
       "       7 │       7  0.205078        0\n",
       "       8 │       8  0.60435         0\n",
       "    ⋮    │    ⋮        ⋮         ⋮\n",
       "  999994 │  999994  0.598799   999900\n",
       "  999995 │  999995  0.666      999900\n",
       "  999996 │  999996  0.951518   999900\n",
       "  999997 │  999997  0.415549   999900\n",
       "  999998 │  999998  0.588543   999900\n",
       "  999999 │  999999  0.45919    999900\n",
       " 1000000 │ 1000000  0.135341  1000000\n",
       "\u001b[36m                   999985 rows omitted\u001b[0m"
      ]
     },
     "metadata": {},
     "output_type": "display_data"
    }
   ],
   "source": [
    "df"
   ]
  },
  {
   "cell_type": "code",
   "execution_count": 45,
   "metadata": {},
   "outputs": [],
   "source": [
    "DuckDB.register_data_frame(con, df, \"my_df\")"
   ]
  },
  {
   "cell_type": "code",
   "execution_count": 49,
   "metadata": {},
   "outputs": [
    {
     "name": "stdout",
     "output_type": "stream",
     "text": [
      "  61.098 ms (6921 allocations: 209.05 KiB)\n"
     ]
    },
    {
     "data": {
      "text/plain": [
       "\u001b[1m1×1 DataFrame\u001b[0m\n",
       "\u001b[1m Row \u001b[0m│\u001b[1m Count   \u001b[0m\n",
       "     │\u001b[90m Int64?  \u001b[0m\n",
       "─────┼─────────\n",
       "   1 │ 1000000"
      ]
     },
     "metadata": {},
     "output_type": "display_data"
    }
   ],
   "source": [
    "@btime results = DuckDB.execute(con, \"CREATE OR REPLACE TABLE DATA1 AS SELECT * FROM my_df\")"
   ]
  },
  {
   "cell_type": "code",
   "execution_count": 66,
   "metadata": {},
   "outputs": [
    {
     "data": {
      "text/plain": [
       "\u001b[1m3×3 DataFrame\u001b[0m\n",
       "\u001b[1m Row \u001b[0m│\u001b[1m a      \u001b[0m\u001b[1m b        \u001b[0m\u001b[1m c      \u001b[0m\n",
       "     │\u001b[90m Int32? \u001b[0m\u001b[90m Float64? \u001b[0m\u001b[90m Int32? \u001b[0m\n",
       "─────┼──────────────────────────\n",
       "   1 │      1  0.953131       0\n",
       "   2 │      2  0.296321       0\n",
       "   3 │      3  0.897179       0"
      ]
     },
     "metadata": {},
     "output_type": "display_data"
    }
   ],
   "source": [
    "DuckDB.execute(con, \"SELECT * FROM  DATA1 LIMIT 3\")"
   ]
  },
  {
   "cell_type": "code",
   "execution_count": 72,
   "metadata": {},
   "outputs": [
    {
     "name": "stdout",
     "output_type": "stream",
     "text": [
      "  0.064812 seconds (16 allocations: 656 bytes)\n"
     ]
    },
    {
     "data": {
      "text/plain": [
       "\u001b[1m1×1 DataFrame\u001b[0m\n",
       "\u001b[1m Row \u001b[0m│\u001b[1m Count   \u001b[0m\n",
       "     │\u001b[90m Int64?  \u001b[0m\n",
       "─────┼─────────\n",
       "   1 │ 1000000"
      ]
     },
     "metadata": {},
     "output_type": "display_data"
    }
   ],
   "source": [
    "@time DuckDB.execute(con, \"COPY (SELECT * FROM DATA1) TO 'data1.parquet' (FORMAT PARQUET);\")"
   ]
  },
  {
   "cell_type": "code",
   "execution_count": 77,
   "metadata": {},
   "outputs": [
    {
     "name": "stdout",
     "output_type": "stream",
     "text": [
      "  0.014898 seconds (24 allocations: 816 bytes)\n"
     ]
    },
    {
     "data": {
      "text/plain": [
       "\u001b[1m1000000×3 DataFrame\u001b[0m\n",
       "\u001b[1m     Row \u001b[0m│\u001b[1m a       \u001b[0m\u001b[1m b        \u001b[0m\u001b[1m c       \u001b[0m\n",
       "         │\u001b[90m Int32?  \u001b[0m\u001b[90m Float64? \u001b[0m\u001b[90m Int32?  \u001b[0m\n",
       "─────────┼────────────────────────────\n",
       "       1 │       1  0.953131        0\n",
       "       2 │       2  0.296321        0\n",
       "       3 │       3  0.897179        0\n",
       "       4 │       4  0.144067        0\n",
       "       5 │       5  0.784014        0\n",
       "       6 │       6  0.346108        0\n",
       "       7 │       7  0.205078        0\n",
       "       8 │       8  0.60435         0\n",
       "    ⋮    │    ⋮        ⋮         ⋮\n",
       "  999994 │  999994  0.598799   999900\n",
       "  999995 │  999995  0.666      999900\n",
       "  999996 │  999996  0.951518   999900\n",
       "  999997 │  999997  0.415549   999900\n",
       "  999998 │  999998  0.588543   999900\n",
       "  999999 │  999999  0.45919    999900\n",
       " 1000000 │ 1000000  0.135341  1000000\n",
       "\u001b[36m                   999985 rows omitted\u001b[0m"
      ]
     },
     "metadata": {},
     "output_type": "display_data"
    }
   ],
   "source": [
    "@time DuckDB.execute(con, \"SELECT * FROM 'data1.parquet' ;\")"
   ]
  },
  {
   "cell_type": "code",
   "execution_count": 81,
   "metadata": {},
   "outputs": [
    {
     "name": "stdout",
     "output_type": "stream",
     "text": [
      "  0.000328 seconds (24 allocations: 816 bytes)\n"
     ]
    },
    {
     "data": {
      "text/plain": [
       "\u001b[1m100×3 DataFrame\u001b[0m\n",
       "\u001b[1m Row \u001b[0m│\u001b[1m a      \u001b[0m\u001b[1m b         \u001b[0m\u001b[1m c      \u001b[0m\n",
       "     │\u001b[90m Int32? \u001b[0m\u001b[90m Float64?  \u001b[0m\u001b[90m Int32? \u001b[0m\n",
       "─────┼───────────────────────────\n",
       "   1 │ 999900  0.426579   999900\n",
       "   2 │ 999901  0.710358   999900\n",
       "   3 │ 999902  0.17435    999900\n",
       "   4 │ 999903  0.98364    999900\n",
       "   5 │ 999904  0.292794   999900\n",
       "   6 │ 999905  0.320691   999900\n",
       "   7 │ 999906  0.117782   999900\n",
       "   8 │ 999907  0.0505681  999900\n",
       "  ⋮  │   ⋮         ⋮        ⋮\n",
       "  94 │ 999993  0.303132   999900\n",
       "  95 │ 999994  0.598799   999900\n",
       "  96 │ 999995  0.666      999900\n",
       "  97 │ 999996  0.951518   999900\n",
       "  98 │ 999997  0.415549   999900\n",
       "  99 │ 999998  0.588543   999900\n",
       " 100 │ 999999  0.45919    999900\n",
       "\u001b[36m                  85 rows omitted\u001b[0m"
      ]
     },
     "metadata": {},
     "output_type": "display_data"
    }
   ],
   "source": [
    "@time DuckDB.execute(con, \"SELECT * FROM DATA1 where c = 999900;\")"
   ]
  },
  {
   "cell_type": "code",
   "execution_count": 75,
   "metadata": {},
   "outputs": [
    {
     "name": "stdout",
     "output_type": "stream",
     "text": [
      "  0.169202 seconds (16 allocations: 656 bytes)\n"
     ]
    },
    {
     "data": {
      "text/plain": [
       "\u001b[1m1×1 DataFrame\u001b[0m\n",
       "\u001b[1m Row \u001b[0m│\u001b[1m Count   \u001b[0m\n",
       "     │\u001b[90m Int64?  \u001b[0m\n",
       "─────┼─────────\n",
       "   1 │ 1000000"
      ]
     },
     "metadata": {},
     "output_type": "display_data"
    }
   ],
   "source": [
    "@time DuckDB.execute(con, \"COPY (SELECT * FROM DATA1) TO 'data1.csv' (FORMAT csv);\")"
   ]
  },
  {
   "cell_type": "code",
   "execution_count": 79,
   "metadata": {},
   "outputs": [
    {
     "name": "stdout",
     "output_type": "stream",
     "text": [
      "  0.113505 seconds (24 allocations: 816 bytes)\n"
     ]
    },
    {
     "data": {
      "text/plain": [
       "\u001b[1m1000000×3 DataFrame\u001b[0m\n",
       "\u001b[1m     Row \u001b[0m│\u001b[1m column0 \u001b[0m\u001b[1m column1  \u001b[0m\u001b[1m column2 \u001b[0m\n",
       "         │\u001b[90m Int64?  \u001b[0m\u001b[90m Float64? \u001b[0m\u001b[90m Int64?  \u001b[0m\n",
       "─────────┼────────────────────────────\n",
       "       1 │       1  0.953131        0\n",
       "       2 │       2  0.296321        0\n",
       "       3 │       3  0.897179        0\n",
       "       4 │       4  0.144067        0\n",
       "       5 │       5  0.784014        0\n",
       "       6 │       6  0.346108        0\n",
       "       7 │       7  0.205078        0\n",
       "       8 │       8  0.60435         0\n",
       "    ⋮    │    ⋮        ⋮         ⋮\n",
       "  999994 │  999994  0.598799   999900\n",
       "  999995 │  999995  0.666      999900\n",
       "  999996 │  999996  0.951518   999900\n",
       "  999997 │  999997  0.415549   999900\n",
       "  999998 │  999998  0.588543   999900\n",
       "  999999 │  999999  0.45919    999900\n",
       " 1000000 │ 1000000  0.135341  1000000\n",
       "\u001b[36m                   999985 rows omitted\u001b[0m"
      ]
     },
     "metadata": {},
     "output_type": "display_data"
    }
   ],
   "source": [
    "@time DuckDB.execute(con, \"SELECT * FROM 'data1.csv';\")"
   ]
  },
  {
   "cell_type": "code",
   "execution_count": 74,
   "metadata": {},
   "outputs": [
    {
     "name": "stdout",
     "output_type": "stream",
     "text": [
      "  0.044730 seconds (16 allocations: 656 bytes)\n"
     ]
    },
    {
     "data": {
      "text/plain": [
       "\u001b[1m1×1 DataFrame\u001b[0m\n",
       "\u001b[1m Row \u001b[0m│\u001b[1m Count  \u001b[0m\n",
       "     │\u001b[90m Int64? \u001b[0m\n",
       "─────┼────────\n",
       "   1 │   3000"
      ]
     },
     "metadata": {},
     "output_type": "display_data"
    }
   ],
   "source": [
    "@time DuckDB.execute(con, \"COPY (SELECT * FROM 'california_housing_test.csv') TO 'calhousetest.parquet' (FORMAT PARQUET);\")"
   ]
  },
  {
   "cell_type": "code",
   "execution_count": 11,
   "metadata": {},
   "outputs": [
    {
     "data": {
      "text/plain": [
       "\u001b[1m1×1 DataFrame\u001b[0m\n",
       "\u001b[1m Row \u001b[0m│\u001b[1m Count  \u001b[0m\n",
       "     │\u001b[90m Int64? \u001b[0m\n",
       "─────┼────────\n",
       "   1 │   3000"
      ]
     },
     "metadata": {},
     "output_type": "display_data"
    }
   ],
   "source": [
    "results = DuckDB.execute(con, \"CREATE OR REPLACE TABLE CALHOUSETST AS SELECT * FROM 'california_housing_test.csv' \")"
   ]
  },
  {
   "cell_type": "code",
   "execution_count": 12,
   "metadata": {},
   "outputs": [
    {
     "data": {
      "text/plain": [
       "\u001b[1m3000×9 DataFrame\u001b[0m\n",
       "\u001b[1m  Row \u001b[0m│\u001b[1m longitude \u001b[0m\u001b[1m latitude \u001b[0m\u001b[1m housing_median_age \u001b[0m\u001b[1m total_rooms \u001b[0m\u001b[1m total_bedrooms \u001b[0m\u001b[1m \u001b[0m ⋯\n",
       "      │\u001b[90m Float64?  \u001b[0m\u001b[90m Float64? \u001b[0m\u001b[90m Float64?           \u001b[0m\u001b[90m Float64?    \u001b[0m\u001b[90m Float64?       \u001b[0m\u001b[90m \u001b[0m ⋯\n",
       "──────┼─────────────────────────────────────────────────────────────────────────\n",
       "    1 │   -122.05     37.37                27.0       3885.0           661.0   ⋯\n",
       "    2 │   -118.3      34.26                43.0       1510.0           310.0\n",
       "    3 │   -117.81     33.78                27.0       3589.0           507.0\n",
       "    4 │   -118.36     33.82                28.0         67.0            15.0\n",
       "    5 │   -119.67     36.33                19.0       1241.0           244.0   ⋯\n",
       "    6 │   -119.56     36.51                37.0       1018.0           213.0\n",
       "    7 │   -121.43     38.63                43.0       1009.0           225.0\n",
       "    8 │   -120.65     35.48                19.0       2310.0           471.0\n",
       "  ⋮   │     ⋮         ⋮              ⋮                ⋮             ⋮          ⋱\n",
       " 2994 │   -117.91     33.6                 37.0       2088.0           510.0   ⋯\n",
       " 2995 │   -117.93     33.86                35.0        931.0           181.0\n",
       " 2996 │   -119.86     34.42                23.0       1450.0           642.0\n",
       " 2997 │   -118.14     34.06                27.0       5257.0          1082.0\n",
       " 2998 │   -119.7      36.3                 10.0        956.0           201.0   ⋯\n",
       " 2999 │   -117.12     34.1                 40.0         96.0            14.0\n",
       " 3000 │   -119.63     34.42                42.0       1765.0           263.0\n",
       "\u001b[36m                                                 4 columns and 2985 rows omitted\u001b[0m"
      ]
     },
     "metadata": {},
     "output_type": "display_data"
    }
   ],
   "source": [
    "DuckDB.execute(con, \"SELECT * FROM  CALHOUSETST\")"
   ]
  },
  {
   "cell_type": "code",
   "execution_count": 17,
   "metadata": {},
   "outputs": [
    {
     "name": "stdout",
     "output_type": "stream",
     "text": [
      "  222.166 μs (50 allocations: 1.92 KiB)\n"
     ]
    },
    {
     "data": {
      "text/plain": [
       "\u001b[1m1620×9 DataFrame\u001b[0m\n",
       "\u001b[1m  Row \u001b[0m│\u001b[1m longitude \u001b[0m\u001b[1m latitude \u001b[0m\u001b[1m housing_median_age \u001b[0m\u001b[1m total_rooms \u001b[0m\u001b[1m total_bedrooms \u001b[0m\u001b[1m \u001b[0m ⋯\n",
       "      │\u001b[90m Float64?  \u001b[0m\u001b[90m Float64? \u001b[0m\u001b[90m Float64?           \u001b[0m\u001b[90m Float64?    \u001b[0m\u001b[90m Float64?       \u001b[0m\u001b[90m \u001b[0m ⋯\n",
       "──────┼─────────────────────────────────────────────────────────────────────────\n",
       "    1 │   -122.05     37.37                27.0       3885.0           661.0   ⋯\n",
       "    2 │   -117.81     33.78                27.0       3589.0           507.0\n",
       "    3 │   -120.65     35.48                19.0       2310.0           471.0\n",
       "    4 │   -122.84     38.4                 15.0       3080.0           617.0\n",
       "    5 │   -118.02     34.08                31.0       2402.0           632.0   ⋯\n",
       "    6 │   -117.03     32.97                16.0       3936.0           694.0\n",
       "    7 │   -117.97     33.73                27.0       2097.0           325.0\n",
       "    8 │   -121.2      38.69                26.0       3077.0           607.0\n",
       "  ⋮   │     ⋮         ⋮              ⋮                ⋮             ⋮          ⋱\n",
       " 1614 │   -122.54     37.9                 48.0       2491.0           460.0   ⋯\n",
       " 1615 │   -117.59     33.88                13.0       3239.0           849.0\n",
       " 1616 │   -121.97     37.29                25.0       4096.0           743.0\n",
       " 1617 │   -122.01     36.97                43.0       2162.0           509.0\n",
       " 1618 │   -117.17     34.28                13.0       4867.0           718.0   ⋯\n",
       " 1619 │   -117.91     33.6                 37.0       2088.0           510.0\n",
       " 1620 │   -118.14     34.06                27.0       5257.0          1082.0\n",
       "\u001b[36m                                                 4 columns and 1605 rows omitted\u001b[0m"
      ]
     },
     "metadata": {},
     "output_type": "display_data"
    }
   ],
   "source": [
    "@btime DuckDB.execute(con, \"SELECT * FROM  CALHOUSETST where total_rooms > 2000.0 \")"
   ]
  },
  {
   "cell_type": "code",
   "execution_count": 58,
   "metadata": {},
   "outputs": [
    {
     "name": "stdout",
     "output_type": "stream",
     "text": [
      "  2.131 ms (24 allocations: 816 bytes)\n"
     ]
    },
    {
     "data": {
      "text/plain": [
       "\u001b[1m399901×3 DataFrame\u001b[0m\n",
       "\u001b[1m    Row \u001b[0m│\u001b[1m a       \u001b[0m\u001b[1m b         \u001b[0m\u001b[1m c       \u001b[0m\n",
       "        │\u001b[90m Int32?  \u001b[0m\u001b[90m Float64?  \u001b[0m\u001b[90m Int32?  \u001b[0m\n",
       "────────┼─────────────────────────────\n",
       "      1 │  600100  0.114716    600100\n",
       "      2 │  600101  0.342306    600100\n",
       "      3 │  600102  0.854904    600100\n",
       "      4 │  600103  0.25516     600100\n",
       "      5 │  600104  0.294107    600100\n",
       "      6 │  600105  0.774148    600100\n",
       "      7 │  600106  0.498302    600100\n",
       "      8 │  600107  0.647357    600100\n",
       "   ⋮    │    ⋮         ⋮         ⋮\n",
       " 399895 │  999994  0.598799    999900\n",
       " 399896 │  999995  0.666       999900\n",
       " 399897 │  999996  0.951518    999900\n",
       " 399898 │  999997  0.415549    999900\n",
       " 399899 │  999998  0.588543    999900\n",
       " 399900 │  999999  0.45919     999900\n",
       " 399901 │ 1000000  0.135341   1000000\n",
       "\u001b[36m                   399886 rows omitted\u001b[0m"
      ]
     },
     "metadata": {},
     "output_type": "display_data"
    }
   ],
   "source": [
    "@btime DuckDB.execute(con, \"SELECT * FROM  DATA1  WHERE c> 600000\")"
   ]
  },
  {
   "cell_type": "code",
   "execution_count": 56,
   "metadata": {},
   "outputs": [
    {
     "data": {
      "text/plain": [
       "\u001b[1m0×1 DataFrame\u001b[0m\n",
       "\u001b[1m Row \u001b[0m│\u001b[1m Count \u001b[0m\n",
       "     │\u001b[90m Int64 \u001b[0m\n",
       "─────┴───────"
      ]
     },
     "metadata": {},
     "output_type": "display_data"
    }
   ],
   "source": [
    "DuckDB.execute(con, \"CREATE INDEX IDX1 ON DATA1 (a,c)\")"
   ]
  },
  {
   "cell_type": "code",
   "execution_count": 60,
   "metadata": {},
   "outputs": [
    {
     "name": "stdout",
     "output_type": "stream",
     "text": [
      "  222.917 μs (16 allocations: 656 bytes)\n"
     ]
    },
    {
     "data": {
      "text/plain": [
       "\u001b[1m1×1 DataFrame\u001b[0m\n",
       "\u001b[1m Row \u001b[0m│\u001b[1m sum((b * a)) \u001b[0m\n",
       "     │\u001b[90m Float64?     \u001b[0m\n",
       "─────┼──────────────\n",
       "   1 │    3.02259e7"
      ]
     },
     "metadata": {},
     "output_type": "display_data"
    }
   ],
   "source": [
    "@btime DuckDB.execute(con, \"SELECT sum(b*a) FROM  DATA1  WHERE c=600100\")"
   ]
  },
  {
   "cell_type": "code",
   "execution_count": 5,
   "metadata": {},
   "outputs": [],
   "source": [
    "close(con)"
   ]
  },
  {
   "cell_type": "code",
   "execution_count": null,
   "metadata": {},
   "outputs": [],
   "source": []
  }
 ],
 "metadata": {
  "kernelspec": {
   "display_name": "Julia 1.9.3",
   "language": "julia",
   "name": "julia-1.9"
  },
  "language_info": {
   "file_extension": ".jl",
   "mimetype": "application/julia",
   "name": "julia",
   "version": "1.9.3"
  }
 },
 "nbformat": 4,
 "nbformat_minor": 2
}
